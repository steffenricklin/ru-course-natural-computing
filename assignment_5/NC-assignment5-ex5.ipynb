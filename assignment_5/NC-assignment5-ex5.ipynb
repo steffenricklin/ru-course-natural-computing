{
  "cells": [
    {
      "cell_type": "markdown",
      "source": "## Natural Computing\n### Exercise 5",
      "metadata": {
        "tags": [],
        "cell_id": "00000-815892c6-7141-4cbd-9e5d-10f12919ec9e",
        "deepnote_cell_type": "markdown"
      }
    },
    {
      "cell_type": "code",
      "metadata": {
        "id": "1aeLe1MeqkpU",
        "cell_id": "00000-6f4ce33e-ec97-48e1-accc-73668881eb72",
        "deepnote_to_be_reexecuted": false,
        "source_hash": "96c0686f",
        "execution_start": 1618148046306,
        "execution_millis": 2921,
        "deepnote_cell_type": "code"
      },
      "source": "import pandas as pd\nimport matplotlib.pyplot as plt\nimport random\nfrom sklearn.model_selection import train_test_split\nfrom sklearn.ensemble import RandomForestClassifier\nfrom sklearn.ensemble import AdaBoostClassifier\nfrom sklearn import metrics",
      "execution_count": null,
      "outputs": []
    },
    {
      "cell_type": "code",
      "metadata": {
        "id": "k-ld_D2UokjF",
        "cell_id": "00001-37ef8a27-0bb6-4fae-a6ad-46fd0aded80a",
        "deepnote_to_be_reexecuted": false,
        "source_hash": "46f54e39",
        "execution_start": 1618148049233,
        "execution_millis": 480,
        "deepnote_cell_type": "code"
      },
      "source": "wine_names = ['Class', 'Alcohol', 'Malic acid', 'Ash', 'Alcalinity of ash', 'Magnesium', 'Total phenols', \\\n              'Flavanoids', 'Nonflavanoid phenols', 'Proanthocyanins', 'Color intensity', 'Hue', 'OD280/OD315',\\\n              'Proline']\nwine_data = pd.read_csv('https://archive.ics.uci.edu/ml/machine-learning-databases/wine/wine.data', names = wine_names) \nwine_df = pd.DataFrame(wine_data)",
      "execution_count": null,
      "outputs": []
    },
    {
      "cell_type": "code",
      "metadata": {
        "id": "wnwArUd8opgV",
        "cell_id": "00002-54a6c7d9-41b0-4148-af4d-10f394b969a6",
        "deepnote_to_be_reexecuted": false,
        "source_hash": "9211f0bd",
        "execution_start": 1618148049728,
        "execution_millis": 4,
        "deepnote_cell_type": "code"
      },
      "source": "Y = wine_df.loc[:,'Class'].values\nX = wine_df.loc[:,'Alcohol':'Proline'].values\n\n#we split the dataset into a test and training set\nx_train, x_test, y_train, y_test = train_test_split(X,Y , test_size=0.3, random_state=0)",
      "execution_count": null,
      "outputs": []
    },
    {
      "cell_type": "markdown",
      "source": "##AdaBoost",
      "metadata": {
        "id": "x35KHL3QzsJn",
        "cell_id": "00003-7cb1e005-a0f4-45eb-a1ad-9bea7b098a59",
        "deepnote_cell_type": "markdown"
      }
    },
    {
      "cell_type": "markdown",
      "source": "Standard",
      "metadata": {
        "id": "v_P3kBV4zusv",
        "cell_id": "00004-00b9429e-8d0a-413c-9159-bce53796d4a1",
        "deepnote_cell_type": "markdown"
      }
    },
    {
      "cell_type": "code",
      "metadata": {
        "colab": {
          "base_uri": "https://localhost:8080/"
        },
        "id": "0VRhW-D4ywPP",
        "outputId": "a43c9604-2a00-40ad-b50a-ed23db48fd74",
        "cell_id": "00005-6106162c-fe23-4d1b-8aaf-b9e2ed1a4d18",
        "deepnote_to_be_reexecuted": false,
        "source_hash": "db8d17f5",
        "execution_start": 1618148049738,
        "execution_millis": 187,
        "deepnote_cell_type": "code"
      },
      "source": "ab_classifier = AdaBoostClassifier(n_estimators=50, learning_rate=1)\nmodel = ab_classifier.fit(x_train, y_train)\n\ny_pred = model.predict(x_test)\nprint(\"Accuracy:\",metrics.accuracy_score(y_test, y_pred))",
      "execution_count": null,
      "outputs": [
        {
          "name": "stdout",
          "text": "Accuracy: 0.8888888888888888\n",
          "output_type": "stream"
        }
      ]
    },
    {
      "cell_type": "markdown",
      "source": "Nr estimators = 100",
      "metadata": {
        "id": "Z94DsyHtz0Hu",
        "cell_id": "00006-d44d5101-f232-4aca-bd26-effc916ce02f",
        "deepnote_cell_type": "markdown"
      }
    },
    {
      "cell_type": "code",
      "metadata": {
        "colab": {
          "base_uri": "https://localhost:8080/"
        },
        "id": "gma6ItCj0dKC",
        "outputId": "66788b19-5550-4841-995d-cb318df19db5",
        "cell_id": "00007-b86d8703-e9db-4c32-b39e-d014015f7336",
        "deepnote_to_be_reexecuted": false,
        "source_hash": "82bd1acc",
        "execution_start": 1618148049918,
        "execution_millis": 261,
        "deepnote_cell_type": "code"
      },
      "source": "ab_classifier = AdaBoostClassifier(n_estimators=100, learning_rate=1)\nmodel = ab_classifier.fit(x_train, y_train)\n\ny_pred = model.predict(x_test)\nprint(\"Accuracy:\",metrics.accuracy_score(y_test, y_pred))",
      "execution_count": null,
      "outputs": [
        {
          "name": "stdout",
          "text": "Accuracy: 0.8888888888888888\n",
          "output_type": "stream"
        }
      ]
    },
    {
      "cell_type": "markdown",
      "source": "Nr estimators = 200",
      "metadata": {
        "id": "xlI8j_-wz23n",
        "cell_id": "00008-1e42eb85-d7d1-43b9-8870-b0d4c6d8faa5",
        "deepnote_cell_type": "markdown"
      }
    },
    {
      "cell_type": "code",
      "metadata": {
        "colab": {
          "base_uri": "https://localhost:8080/"
        },
        "id": "GMQGefWS0iKk",
        "outputId": "95a4ce81-4e92-41cb-a4f5-a4bfc379b26b",
        "cell_id": "00009-3c33ae9a-21c3-4af1-81e0-dc96a0aa9f67",
        "deepnote_to_be_reexecuted": false,
        "source_hash": "db8d17f5",
        "execution_start": 1618148050176,
        "execution_millis": 104,
        "deepnote_cell_type": "code"
      },
      "source": "ab_classifier = AdaBoostClassifier(n_estimators=50, learning_rate=1)\nmodel = ab_classifier.fit(x_train, y_train)\n\ny_pred = model.predict(x_test)\nprint(\"Accuracy:\",metrics.accuracy_score(y_test, y_pred))",
      "execution_count": null,
      "outputs": [
        {
          "name": "stdout",
          "text": "Accuracy: 0.8888888888888888\n",
          "output_type": "stream"
        }
      ]
    },
    {
      "cell_type": "markdown",
      "source": "Algorithm = 'SAMME'",
      "metadata": {
        "id": "QzZGspGd00SQ",
        "cell_id": "00010-bc9d9377-cb19-4d7f-8186-8ee38169d5a4",
        "deepnote_cell_type": "markdown"
      }
    },
    {
      "cell_type": "code",
      "metadata": {
        "colab": {
          "base_uri": "https://localhost:8080/"
        },
        "id": "zzHJ4B060tQC",
        "outputId": "15dd0708-d147-45b9-e09a-f20bd51214ad",
        "cell_id": "00011-bef958fa-52f4-423b-86b1-dde1744c7d26",
        "deepnote_to_be_reexecuted": false,
        "source_hash": "813e0b",
        "execution_start": 1618148050288,
        "execution_millis": 97,
        "deepnote_cell_type": "code"
      },
      "source": "ab_classifier = AdaBoostClassifier(n_estimators=50, learning_rate=1, algorithm='SAMME')\nmodel = ab_classifier.fit(x_train, y_train)\n\ny_pred = model.predict(x_test)\nprint(\"Accuracy:\",metrics.accuracy_score(y_test, y_pred))",
      "execution_count": null,
      "outputs": [
        {
          "name": "stdout",
          "text": "Accuracy: 0.9259259259259259\n",
          "output_type": "stream"
        }
      ]
    },
    {
      "cell_type": "markdown",
      "source": "##Random forest",
      "metadata": {
        "id": "MTJ9lcYHzoUA",
        "cell_id": "00012-5f39eaa2-fbbb-4160-ab4c-da29f8283519",
        "deepnote_cell_type": "markdown"
      }
    },
    {
      "cell_type": "markdown",
      "source": "Standard",
      "metadata": {
        "id": "nsZS9E_axdpX",
        "cell_id": "00013-745524ac-4841-4d82-8a40-d63a234f6341",
        "deepnote_cell_type": "markdown"
      }
    },
    {
      "cell_type": "code",
      "metadata": {
        "colab": {
          "base_uri": "https://localhost:8080/"
        },
        "id": "hHURo1_4oti4",
        "outputId": "5fd2eae0-ceeb-4e43-a7f0-bb6875830c3c",
        "cell_id": "00014-8cfd603f-28ef-4b63-a572-b5a2c2bd489e",
        "deepnote_to_be_reexecuted": false,
        "source_hash": "26f9c820",
        "execution_start": 1618148050382,
        "execution_millis": 270,
        "deepnote_cell_type": "code"
      },
      "source": "rf_classifier = RandomForestClassifier(n_estimators=100, max_depth=2, max_features = 'sqrt')\nrf_classifier.fit(x_train, y_train)\n\nprint(\"Accuracy:\", rf_classifier.score(x_test, y_test))",
      "execution_count": null,
      "outputs": [
        {
          "name": "stdout",
          "text": "Accuracy: 0.9629629629629629\n",
          "output_type": "stream"
        }
      ]
    },
    {
      "cell_type": "markdown",
      "source": "Nr estimators = 50",
      "metadata": {
        "id": "_JuQPclexe20",
        "cell_id": "00015-7ca42ee7-04bd-467f-8cca-257ff936cb00",
        "deepnote_cell_type": "markdown"
      }
    },
    {
      "cell_type": "code",
      "metadata": {
        "colab": {
          "base_uri": "https://localhost:8080/"
        },
        "id": "USC3vFfKovVt",
        "outputId": "fb605262-f736-4d4b-b9c8-e8dec281e594",
        "cell_id": "00016-fd24993c-be0e-44a4-bb39-e63d32fb832e",
        "deepnote_to_be_reexecuted": false,
        "source_hash": "48c5114f",
        "execution_start": 1618148050654,
        "execution_millis": 159,
        "deepnote_cell_type": "code"
      },
      "source": "rf_classifier = RandomForestClassifier(n_estimators=50, max_depth=2, max_features = 'sqrt')\nrf_classifier.fit(x_train, y_train)\n\nprint(\"Accuracy:\", rf_classifier.score(x_test, y_test))",
      "execution_count": null,
      "outputs": [
        {
          "name": "stdout",
          "text": "Accuracy: 0.9629629629629629\n",
          "output_type": "stream"
        }
      ]
    },
    {
      "cell_type": "markdown",
      "source": "Nr estimators = 200",
      "metadata": {
        "id": "OgZwyS33xnz5",
        "cell_id": "00017-642fa3ac-9ac1-4205-a644-7fdb5bb48c9a",
        "deepnote_cell_type": "markdown"
      }
    },
    {
      "cell_type": "code",
      "metadata": {
        "colab": {
          "base_uri": "https://localhost:8080/"
        },
        "id": "Tg5VpGYHv2d4",
        "outputId": "0c4fae80-6062-41bc-800d-4ef1b383f779",
        "cell_id": "00018-cdcf0272-1123-4699-8726-3dd004b4c76d",
        "deepnote_to_be_reexecuted": false,
        "source_hash": "bc24d44a",
        "execution_start": 1618148050817,
        "execution_millis": 384,
        "deepnote_cell_type": "code"
      },
      "source": "rf_classifier = RandomForestClassifier(n_estimators=200, max_depth=2, max_features = 'sqrt')\nrf_classifier.fit(x_train, y_train)\n\nprint(\"Accuracy:\", rf_classifier.score(x_test, y_test))",
      "execution_count": null,
      "outputs": [
        {
          "name": "stdout",
          "text": "Accuracy: 0.9629629629629629\n",
          "output_type": "stream"
        }
      ]
    },
    {
      "cell_type": "markdown",
      "source": "Max depth = 3",
      "metadata": {
        "id": "jP4KHPXMxriP",
        "cell_id": "00019-9347d2c1-dc3b-42f7-93e9-5695d0515178",
        "deepnote_cell_type": "markdown"
      }
    },
    {
      "cell_type": "code",
      "metadata": {
        "colab": {
          "base_uri": "https://localhost:8080/"
        },
        "id": "prN0aphov9ve",
        "outputId": "f9ce7f7a-096c-4ff1-b260-6361e14d2125",
        "cell_id": "00020-4391866a-5b9c-46c0-8bd5-283b5f732e8e",
        "deepnote_to_be_reexecuted": false,
        "source_hash": "3b5b6427",
        "execution_millis": 336,
        "execution_start": 1618148190454,
        "deepnote_cell_type": "code"
      },
      "source": "rf_classifier = RandomForestClassifier(n_estimators=100, max_depth=3, max_features = 'sqrt')\nrf_classifier.fit(x_train, y_train)\n\nprint(\"Accuracy:\", rf_classifier.score(x_test, y_test))\n\nrf_classifier = RandomForestClassifier(n_estimators=100, max_depth=3, max_features = 'sqrt')\nrf_classifier.fit(x_train, y_train)\n\nprint(\"Accuracy:\", rf_classifier.score(x_test, y_test))",
      "execution_count": null,
      "outputs": [
        {
          "name": "stdout",
          "text": "Accuracy: 0.9629629629629629\nAccuracy: 0.9814814814814815\n",
          "output_type": "stream"
        }
      ]
    },
    {
      "cell_type": "markdown",
      "source": "Max depth = None ",
      "metadata": {
        "id": "lSNaGUksxuF3",
        "cell_id": "00021-f0dfa4d6-5c8a-42bf-9534-190bf6b1b82f",
        "deepnote_cell_type": "markdown"
      }
    },
    {
      "cell_type": "code",
      "metadata": {
        "colab": {
          "base_uri": "https://localhost:8080/"
        },
        "id": "eSGOLVA2v4pV",
        "outputId": "fd7addeb-a6a2-410b-c0e9-8f0f66d510de",
        "cell_id": "00022-8b7a8a19-edaa-49dd-b8af-05d99c217713",
        "deepnote_to_be_reexecuted": false,
        "source_hash": "24908910",
        "execution_millis": 324,
        "execution_start": 1618148201549,
        "deepnote_cell_type": "code"
      },
      "source": "rf_classifier = RandomForestClassifier(n_estimators=100, max_depth=None, max_features = 'sqrt')\nrf_classifier.fit(x_train, y_train)\n\nprint(\"Accuracy:\", rf_classifier.score(x_test, y_test))\n\nrf_classifier = RandomForestClassifier(n_estimators=100, max_depth=None, max_features = 'sqrt')\nrf_classifier.fit(x_train, y_train)\n\nprint(\"Accuracy:\", rf_classifier.score(x_test, y_test))",
      "execution_count": null,
      "outputs": [
        {
          "name": "stdout",
          "text": "Accuracy: 0.9629629629629629\nAccuracy: 0.9814814814814815\n",
          "output_type": "stream"
        }
      ]
    },
    {
      "cell_type": "markdown",
      "source": "Max features = log2",
      "metadata": {
        "id": "GNtWMWzVxwlG",
        "cell_id": "00023-89ca440b-7b1f-4070-b2c2-437d265cd256",
        "deepnote_cell_type": "markdown"
      }
    },
    {
      "cell_type": "code",
      "metadata": {
        "colab": {
          "base_uri": "https://localhost:8080/"
        },
        "id": "dJd0dUJawDLL",
        "outputId": "9359aa0d-7a6a-4a14-92da-fee7efe1591e",
        "cell_id": "00024-c141374f-e0ab-4344-b8d6-1e9665be7ab1",
        "deepnote_to_be_reexecuted": false,
        "source_hash": "4dfd4cad",
        "execution_start": 1618148051630,
        "execution_millis": 203,
        "deepnote_cell_type": "code"
      },
      "source": "rf_classifier = RandomForestClassifier(n_estimators=100, max_depth=2, max_features = 'log2')\nrf_classifier.fit(x_train, y_train)\n\nprint(\"Accuracy:\", rf_classifier.score(x_test, y_test))",
      "execution_count": null,
      "outputs": [
        {
          "name": "stdout",
          "text": "Accuracy: 0.9629629629629629\n",
          "output_type": "stream"
        }
      ]
    },
    {
      "cell_type": "markdown",
      "source": "Min samples split = 0.8",
      "metadata": {
        "id": "5i1J5qRgxz04",
        "cell_id": "00025-2ded6eff-a554-463c-831c-700cbf28b927",
        "deepnote_cell_type": "markdown"
      }
    },
    {
      "cell_type": "code",
      "metadata": {
        "colab": {
          "base_uri": "https://localhost:8080/"
        },
        "id": "j6c0PLVJwLkm",
        "outputId": "04cb94cb-b8ba-4a87-ce64-52d68c108009",
        "cell_id": "00026-135c6f32-50d0-47f8-b1f3-29119054da1e",
        "deepnote_to_be_reexecuted": false,
        "source_hash": "c65e3996",
        "execution_start": 1618148051847,
        "execution_millis": 204,
        "deepnote_cell_type": "code"
      },
      "source": "rf_classifier = RandomForestClassifier(n_estimators=100, min_samples_split=0.8, max_depth=2, max_features = 'sqrt')\nrf_classifier.fit(x_train, y_train)\n\nprint(\"Accuracy:\", rf_classifier.score(x_test, y_test))",
      "execution_count": null,
      "outputs": [
        {
          "name": "stdout",
          "text": "Accuracy: 0.4074074074074074\n",
          "output_type": "stream"
        }
      ]
    },
    {
      "cell_type": "markdown",
      "source": "Min samples split = 0.5",
      "metadata": {
        "tags": [],
        "cell_id": "00027-5efc8f71-ff7a-49d8-9422-453c5513c683",
        "deepnote_cell_type": "text-cell-p"
      }
    },
    {
      "cell_type": "code",
      "metadata": {
        "tags": [],
        "cell_id": "00028-ba8a813c-a574-464b-9665-50e5d3258b59",
        "deepnote_to_be_reexecuted": false,
        "source_hash": "441c1bab",
        "execution_start": 1618148773829,
        "execution_millis": 137,
        "deepnote_cell_type": "code"
      },
      "source": "rf_classifier = RandomForestClassifier(n_estimators=100, min_samples_split=0.5, max_depth=2, max_features = 'sqrt')\nrf_classifier.fit(x_train, y_train)\n\nprint(\"Accuracy:\", rf_classifier.score(x_test, y_test))",
      "execution_count": null,
      "outputs": [
        {
          "name": "stdout",
          "text": "Accuracy: 0.9444444444444444\n",
          "output_type": "stream"
        }
      ]
    },
    {
      "cell_type": "markdown",
      "source": "Min samples split = 0.4",
      "metadata": {
        "tags": [],
        "cell_id": "00029-11732e17-ce13-4f7b-a329-65699ef452d0",
        "deepnote_cell_type": "text-cell-p"
      }
    },
    {
      "cell_type": "code",
      "metadata": {
        "tags": [],
        "cell_id": "00029-f098ed4f-0c5d-4b0d-946f-59b16aa6b7a9",
        "deepnote_to_be_reexecuted": false,
        "source_hash": "f3df09f1",
        "execution_millis": 72,
        "execution_start": 1618148960890,
        "deepnote_cell_type": "code"
      },
      "source": "rf_classifier = RandomForestClassifier(n_estimators=100, min_samples_split=0.4, max_depth=2, max_features = 'sqrt')\nrf_classifier.fit(x_train, y_train)\n\nprint(\"Accuracy:\", rf_classifier.score(x_test, y_test))",
      "execution_count": null,
      "outputs": [
        {
          "name": "stdout",
          "text": "Accuracy: 0.9629629629629629\n",
          "output_type": "stream"
        }
      ]
    },
    {
      "cell_type": "markdown",
      "source": "Min weight fraction leaf = 0.3",
      "metadata": {
        "id": "Qwziji-Fx20n",
        "cell_id": "00027-98f3c0bd-d339-4b51-8c32-d29691d344b3",
        "deepnote_cell_type": "markdown"
      }
    },
    {
      "cell_type": "code",
      "metadata": {
        "colab": {
          "base_uri": "https://localhost:8080/"
        },
        "id": "EhTw-N_HwwWs",
        "outputId": "bd9e1e4b-22b1-41dc-9f23-eb94836bba24",
        "cell_id": "00028-02f0a75c-c026-4541-ad88-72daf18738dd",
        "deepnote_to_be_reexecuted": false,
        "source_hash": "9f7f8515",
        "execution_start": 1618148052081,
        "execution_millis": 158,
        "deepnote_cell_type": "code"
      },
      "source": "rf_classifier = RandomForestClassifier(n_estimators=100, min_weight_fraction_leaf=0.3, max_depth=2, max_features = 'sqrt')\nrf_classifier.fit(x_train, y_train)\n\nprint(\"Accuracy:\", rf_classifier.score(x_test, y_test))",
      "execution_count": null,
      "outputs": [
        {
          "name": "stdout",
          "text": "Accuracy: 0.9629629629629629\n",
          "output_type": "stream"
        }
      ]
    },
    {
      "cell_type": "markdown",
      "source": "Max leaf nodes = 2",
      "metadata": {
        "id": "vRgqpCJex8Wo",
        "cell_id": "00029-df870ff4-098c-4b99-942a-22bacf8acf11",
        "deepnote_cell_type": "markdown"
      }
    },
    {
      "cell_type": "code",
      "metadata": {
        "colab": {
          "base_uri": "https://localhost:8080/"
        },
        "id": "nYzgOAH0xCfA",
        "outputId": "40b35abb-bdb1-4784-92bf-65c618f73774",
        "cell_id": "00030-0ec0ac50-f355-4609-bbd8-273a1312dba5",
        "deepnote_to_be_reexecuted": false,
        "source_hash": "c9c4b05d",
        "execution_millis": 177,
        "execution_start": 1618148077953,
        "deepnote_cell_type": "code"
      },
      "source": "rf_classifier = RandomForestClassifier(n_estimators=100, max_leaf_nodes=2, max_depth=2, max_features = 'sqrt')\nrf_classifier.fit(x_train, y_train)\n\nprint(\"Accuracy:\", rf_classifier.score(x_test, y_test))",
      "execution_count": null,
      "outputs": [
        {
          "name": "stdout",
          "text": "Accuracy: 0.9444444444444444\n",
          "output_type": "stream"
        }
      ]
    },
    {
      "cell_type": "markdown",
      "source": "Bootstrap = False",
      "metadata": {
        "id": "bfbdW2f3xan8",
        "cell_id": "00031-b146d90e-2eee-4c1b-98dc-3230801cfa53",
        "deepnote_cell_type": "markdown"
      }
    },
    {
      "cell_type": "code",
      "metadata": {
        "colab": {
          "base_uri": "https://localhost:8080/"
        },
        "id": "buq0u42PxRhz",
        "outputId": "15338e8f-c89b-4588-e141-fd78a38c3a25",
        "cell_id": "00032-7003f34c-e5e8-43b7-8308-1cb75b1f6e92",
        "deepnote_to_be_reexecuted": false,
        "source_hash": "6096a06",
        "execution_start": 1618148052500,
        "execution_millis": 172,
        "deepnote_cell_type": "code"
      },
      "source": "rf_classifier = RandomForestClassifier(n_estimators=100, bootstrap=False, max_depth=2, max_features = 'sqrt')\nrf_classifier.fit(x_train, y_train)\n\nprint(\"Accuracy:\", rf_classifier.score(x_test, y_test))",
      "execution_count": null,
      "outputs": [
        {
          "name": "stdout",
          "text": "Accuracy: 0.9814814814814815\n",
          "output_type": "stream"
        }
      ]
    },
    {
      "cell_type": "markdown",
      "source": "<a style='text-decoration:none;line-height:16px;display:flex;color:#5B5B62;padding:10px;justify-content:end;' href='https://deepnote.com?utm_source=created-in-deepnote-cell&projectId=48486dc9-a1a6-4dac-ab77-4156e0b947fb' target=\"_blank\">\n<img alt='Created in deepnote.com' style='display:inline;max-height:16px;margin:0px;margin-right:7.5px;' src='data:image/svg+xml;base64,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' > </img>\nCreated in <span style='font-weight:600;margin-left:4px;'>Deepnote</span></a>",
      "metadata": {
        "tags": [],
        "created_in_deepnote_cell": true,
        "deepnote_cell_type": "markdown"
      }
    }
  ],
  "nbformat": 4,
  "nbformat_minor": 0,
  "metadata": {
    "colab": {
      "name": "NatComp.ipynb",
      "provenance": []
    },
    "kernelspec": {
      "name": "python3",
      "display_name": "Python 3"
    },
    "language_info": {
      "name": "python"
    },
    "deepnote_notebook_id": "9c0d802d-7feb-4e32-8178-653dc704d9b9",
    "deepnote": {},
    "deepnote_execution_queue": []
  }
}